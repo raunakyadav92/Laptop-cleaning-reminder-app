{
  "nbformat": 4,
  "nbformat_minor": 0,
  "metadata": {
    "colab": {
      "provenance": [],
      "authorship_tag": "ABX9TyMb+/sp7mioUKvQWFOmuKjS",
      "include_colab_link": true
    },
    "kernelspec": {
      "name": "python3",
      "display_name": "Python 3"
    },
    "language_info": {
      "name": "python"
    }
  },
  "cells": [
    {
      "cell_type": "markdown",
      "metadata": {
        "id": "view-in-github",
        "colab_type": "text"
      },
      "source": [
        "<a href=\"https://colab.research.google.com/github/raunakyadav92/Laptop-cleaning-reminder-app/blob/main/laptop.ipynb\" target=\"_parent\"><img src=\"https://colab.research.google.com/assets/colab-badge.svg\" alt=\"Open In Colab\"/></a>"
      ]
    },
    {
      "cell_type": "code",
      "execution_count": null,
      "metadata": {
        "id": "mDlRam_bUr73"
      },
      "outputs": [],
      "source": [
        "import time\n",
        "import datetime\n",
        "\n",
        "def show_reminder():\n",
        "    print(\"\\n🧽 Reminder: Time to clean your laptop! 💻\")\n",
        "    print(\"👉 Physical: Wipe screen, keyboard, vents.\")\n",
        "    print(\"👉 Digital: Delete temp files, organize desktop.\")\n",
        "\n",
        "# Run every day at a specific time (e.g., 10 AM)\n",
        "def run_daily_reminder(hour=10, minute=0):\n",
        "    while True:\n",
        "        now = datetime.datetime.now()\n",
        "        if now.hour == hour and now.minute == minute:\n",
        "            show_reminder()\n",
        "            time.sleep(60)  # Wait a minute to avoid multiple triggers\n",
        "        time.sleep(30)  # Check every 30 seconds\n",
        "\n",
        "# Example usage:\n",
        "# run_daily_reminder()  # Uncomment this to run\n"
      ]
    }
  ]
}